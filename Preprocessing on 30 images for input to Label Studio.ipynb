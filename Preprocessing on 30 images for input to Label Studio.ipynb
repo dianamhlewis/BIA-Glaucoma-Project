{
 "cells": [
  {
   "cell_type": "code",
   "execution_count": 1,
   "id": "bb7769a0",
   "metadata": {},
   "outputs": [],
   "source": [
    "#pip install label-studio\n",
    "\n",
    "#this is the line for reference to start the label-studio local machine\n",
    "#label-studio start"
   ]
  },
  {
   "cell_type": "code",
   "execution_count": 17,
   "id": "3121ef9c",
   "metadata": {},
   "outputs": [],
   "source": [
    "#code written by Matthew Miller (adapted from chatGPT and prior code from class)"
   ]
  },
  {
   "cell_type": "code",
   "execution_count": 11,
   "id": "9266cf7d",
   "metadata": {},
   "outputs": [],
   "source": [
    "import tensorflow as tf\n",
    "from tensorflow.keras import layers, models\n",
    "\n",
    "import pandas as pd\n",
    "import matplotlib.pyplot as plt\n",
    "import cv2\n",
    "import os\n",
    "import numpy as np\n",
    "\n",
    "import random\n",
    "import itertools\n",
    "\n",
    "from collections import defaultdict"
   ]
  },
  {
   "cell_type": "markdown",
   "id": "37a7a3e7",
   "metadata": {},
   "source": [
    "## Set the image folder and read the CSV file (the CSV files and the images must be in a single folder)"
   ]
  },
  {
   "cell_type": "code",
   "execution_count": 3,
   "id": "89636848",
   "metadata": {},
   "outputs": [
    {
     "name": "stdout",
     "output_type": "stream",
     "text": [
      "Glaucoma_Balanced_Dataset/JustRAIGS\\JustRAIGS_Train_labels_balance.csv\n"
     ]
    }
   ],
   "source": [
    "# Folder containing the image files and the corresponding CSV file\n",
    "folder_path = \"Glaucoma_Balanced_Dataset/JustRAIGS\"\n",
    "csv_file = \"JustRAIGS_Train_labels_balance.csv\"\n",
    "csv_path = os.path.join(folder_path,csv_file)\n",
    "print(csv_path)\n",
    "\n",
    "# Read the CSV file containing the image filenames and classifications\n",
    "data = pd.read_csv(csv_path)\n",
    "#print(data)"
   ]
  },
  {
   "cell_type": "code",
   "execution_count": 10,
   "id": "d6a9f6da",
   "metadata": {},
   "outputs": [
    {
     "name": "stdout",
     "output_type": "stream",
     "text": [
      "Smallest horizontal pixel value: 1024\n",
      "Smallest vertical pixel value: 682\n"
     ]
    }
   ],
   "source": [
    "# Function to find the smallest horizontal and vertical pixel values in a dataset\n",
    "def find_smallest_pixel_values(dataset_folder):\n",
    "    smallest_horizontal = float('inf')\n",
    "    smallest_vertical = float('inf')\n",
    "\n",
    "    # Iterate over all files in the dataset folder\n",
    "    for filename in os.listdir(dataset_folder):\n",
    "        if filename.endswith(\".jpg\"):\n",
    "            # Read the image using OpenCV\n",
    "            image_path = os.path.join(dataset_folder, filename)\n",
    "            image = cv2.imread(image_path)\n",
    "\n",
    "            if image is not None:\n",
    "                # Get image dimensions (height and width)\n",
    "                height, width, _ = image.shape\n",
    "\n",
    "                # Update smallest horizontal and vertical pixel values\n",
    "                if width < smallest_horizontal:\n",
    "                    smallest_horizontal = width\n",
    "                \n",
    "                if height < smallest_vertical:\n",
    "                    smallest_vertical = height\n",
    "\n",
    "    return smallest_horizontal, smallest_vertical\n",
    "\n",
    "# Example usage:\n",
    "smallest_horizontal, smallest_vertical = find_smallest_pixel_values(folder_path)\n",
    "\n",
    "print(\"Smallest horizontal pixel value:\", smallest_horizontal)\n",
    "print(\"Smallest vertical pixel value:\", smallest_vertical)\n"
   ]
  },
  {
   "cell_type": "code",
   "execution_count": null,
   "id": "dcee8d77",
   "metadata": {},
   "outputs": [],
   "source": [
    "## The output of the above line of code for the balanced data set is as follows:\n",
    "# Smallest horizontal pixel value: 1024\n",
    "# Smallest vertical pixel value: 682\n",
    "\n",
    "# There are only 3 images with that small of an image size\n",
    "#Based on this, we will likely choose a square size of 682 x 682 pixels so that interpolation does not have to be done"
   ]
  },
  {
   "cell_type": "code",
   "execution_count": null,
   "id": "da6cedf3",
   "metadata": {},
   "outputs": [],
   "source": [
    "## Based on the distribution below, the vast majority of the images are at least 1725 x 1725 or larger\n",
    "#(99% of the images will require no interpolation)"
   ]
  },
  {
   "cell_type": "code",
   "execution_count": 12,
   "id": "e6418176",
   "metadata": {},
   "outputs": [
    {
     "name": "stdout",
     "output_type": "stream",
     "text": [
      "List of Different Image Sizes:\n",
      "Image Size: (2592, 1944) | Count: 1140\n",
      "Image Size: (3888, 2592) | Count: 897\n",
      "Image Size: (3216, 2136) | Count: 102\n",
      "Image Size: (4928, 3264) | Count: 647\n",
      "Image Size: (2300, 2300) | Count: 166\n",
      "Image Size: (2560, 1920) | Count: 936\n",
      "Image Size: (4096, 3072) | Count: 159\n",
      "Image Size: (3456, 2304) | Count: 449\n",
      "Image Size: (2736, 1824) | Count: 114\n",
      "Image Size: (1725, 1725) | Count: 233\n",
      "Image Size: (1956, 1934) | Count: 284\n",
      "Image Size: (1725, 1721) | Count: 9\n",
      "Image Size: (3696, 2448) | Count: 264\n",
      "Image Size: (2173, 1630) | Count: 7\n",
      "Image Size: (3984, 2656) | Count: 66\n",
      "Image Size: (1876, 1876) | Count: 70\n",
      "Image Size: (3504, 2336) | Count: 249\n",
      "Image Size: (5184, 3456) | Count: 45\n",
      "Image Size: (4752, 3168) | Count: 328\n",
      "Image Size: (5472, 3648) | Count: 72\n",
      "Image Size: (4288, 2848) | Count: 6\n",
      "Image Size: (1634, 1630) | Count: 1\n",
      "Image Size: (4272, 2848) | Count: 64\n",
      "Image Size: (2544, 1696) | Count: 4\n",
      "Image Size: (6000, 4000) | Count: 20\n",
      "Image Size: (2464, 1632) | Count: 17\n",
      "Image Size: (2124, 2056) | Count: 32\n",
      "Image Size: (3088, 2056) | Count: 56\n",
      "Image Size: (2720, 2720) | Count: 5\n",
      "Image Size: (3782, 3782) | Count: 4\n",
      "Image Size: (2816, 1880) | Count: 36\n",
      "Image Size: (2048, 1536) | Count: 10\n",
      "Image Size: (3648, 2432) | Count: 5\n",
      "Image Size: (1792, 1184) | Count: 6\n",
      "Image Size: (1368, 912) | Count: 2\n",
      "Image Size: (3072, 2048) | Count: 7\n",
      "Image Size: (2976, 2976) | Count: 4\n",
      "Image Size: (2976, 1984) | Count: 3\n",
      "Image Size: (3872, 2592) | Count: 2\n",
      "Image Size: (3008, 2000) | Count: 8\n",
      "Image Size: (3264, 2448) | Count: 1\n",
      "Image Size: (2496, 1664) | Count: 2\n",
      "Image Size: (1024, 682) | Count: 3\n",
      "Image Size: (1936, 1288) | Count: 2\n"
     ]
    },
    {
     "data": {
      "image/png": "[encoded data removed]",
      "text/plain": [
       "<Figure size 1200x800 with 1 Axes>"
      ]
     },
     "metadata": {},
     "output_type": "display_data"
    }
   ],
   "source": [
    "def get_image_sizes_and_counts(dataset_folder):\n",
    "    image_sizes_count = defaultdict(int)\n",
    "\n",
    "    # Iterate over all files in the dataset folder\n",
    "    for filename in os.listdir(dataset_folder):\n",
    "        if filename.endswith(\".jpg\"):\n",
    "            # Read the image using OpenCV\n",
    "            image_path = os.path.join(dataset_folder, filename)\n",
    "            image = cv2.imread(image_path)\n",
    "\n",
    "            if image is not None:\n",
    "                # Get image dimensions (height and width)\n",
    "                height, width, _ = image.shape\n",
    "\n",
    "                # Record the image size (width x height)\n",
    "                image_size = (width, height)\n",
    "                image_sizes_count[image_size] += 1\n",
    "\n",
    "    return image_sizes_count\n",
    "\n",
    "def display_image_sizes_and_histogram(image_sizes_count):\n",
    "    # Display a list of unique image sizes\n",
    "    print(\"List of Different Image Sizes:\")\n",
    "    for image_size, count in image_sizes_count.items():\n",
    "        print(f\"Image Size: {image_size} | Count: {count}\")\n",
    "\n",
    "    # Create a histogram of image sizes occurrences\n",
    "    sizes = list(image_sizes_count.keys())\n",
    "    counts = list(image_sizes_count.values())\n",
    "\n",
    "    plt.figure(figsize=(12, 8))\n",
    "    plt.bar(range(len(sizes)), counts, align='center')\n",
    "    plt.xticks(range(len(sizes)), sizes, rotation='vertical')\n",
    "    plt.xlabel('Image Size (Width x Height)')\n",
    "    plt.ylabel('Frequency')\n",
    "    plt.title('Histogram of Image Sizes')\n",
    "    plt.tight_layout()\n",
    "    plt.show()\n",
    "\n",
    "# Example usage:\n",
    "image_sizes_count = get_image_sizes_and_counts(folder_path)\n",
    "display_image_sizes_and_histogram(image_sizes_count)\n"
   ]
  },
  {
   "cell_type": "markdown",
   "id": "269e52a7",
   "metadata": {},
   "source": [
    "## !!!!!!!  CAUTION  !!!!!!! DO NOT RUN WITH A LARGE NUMBER OF DATA FILES IF YOU DON'T WANT TO WAIT"
   ]
  },
  {
   "cell_type": "code",
   "execution_count": 35,
   "id": "9545dce5",
   "metadata": {},
   "outputs": [],
   "source": [
    "#output image folder path:\n",
    "output_folder_path = \"Glaucoma_Balanced_Dataset/Preprocessed_images_input_to_bound\""
   ]
  },
  {
   "cell_type": "code",
   "execution_count": 36,
   "id": "61e5cea5",
   "metadata": {},
   "outputs": [],
   "source": [
    "## This next block of code does just histogram equalization and normalization on the colorful part of the image(just the eye)\n",
    "# The black background does not affect the equalization"
   ]
  },
  {
   "cell_type": "code",
   "execution_count": 37,
   "id": "95898ed4",
   "metadata": {},
   "outputs": [],
   "source": [
    "# Specify the desired output size (e.g., 1956 x 1725)\n",
    "target_width = 2048\n",
    "target_height = 1024"
   ]
  },
  {
   "cell_type": "code",
   "execution_count": 38,
   "id": "8b5fe94d",
   "metadata": {},
   "outputs": [
    {
     "name": "stdout",
     "output_type": "stream",
     "text": [
      "Enhanced image saved: Glaucoma_Balanced_Dataset/Preprocessed_images_input_to_bound\\enhanced_TRAIN000000.jpg\n",
      "Enhanced image saved: Glaucoma_Balanced_Dataset/Preprocessed_images_input_to_bound\\enhanced_TRAIN000001.jpg\n",
      "Enhanced image saved: Glaucoma_Balanced_Dataset/Preprocessed_images_input_to_bound\\enhanced_TRAIN000002.jpg\n",
      "Enhanced image saved: Glaucoma_Balanced_Dataset/Preprocessed_images_input_to_bound\\enhanced_TRAIN000003.jpg\n",
      "Enhanced image saved: Glaucoma_Balanced_Dataset/Preprocessed_images_input_to_bound\\enhanced_TRAIN000004.jpg\n",
      "Enhanced image saved: Glaucoma_Balanced_Dataset/Preprocessed_images_input_to_bound\\enhanced_TRAIN000005.jpg\n",
      "Enhanced image saved: Glaucoma_Balanced_Dataset/Preprocessed_images_input_to_bound\\enhanced_TRAIN000006.jpg\n",
      "Enhanced image saved: Glaucoma_Balanced_Dataset/Preprocessed_images_input_to_bound\\enhanced_TRAIN000007.jpg\n",
      "Enhanced image saved: Glaucoma_Balanced_Dataset/Preprocessed_images_input_to_bound\\enhanced_TRAIN000008.jpg\n",
      "Enhanced image saved: Glaucoma_Balanced_Dataset/Preprocessed_images_input_to_bound\\enhanced_TRAIN000009.jpg\n",
      "Enhanced image saved: Glaucoma_Balanced_Dataset/Preprocessed_images_input_to_bound\\enhanced_TRAIN000010.jpg\n",
      "Enhanced image saved: Glaucoma_Balanced_Dataset/Preprocessed_images_input_to_bound\\enhanced_TRAIN000011.jpg\n",
      "Enhanced image saved: Glaucoma_Balanced_Dataset/Preprocessed_images_input_to_bound\\enhanced_TRAIN000012.jpg\n",
      "Enhanced image saved: Glaucoma_Balanced_Dataset/Preprocessed_images_input_to_bound\\enhanced_TRAIN000013.jpg\n",
      "Enhanced image saved: Glaucoma_Balanced_Dataset/Preprocessed_images_input_to_bound\\enhanced_TRAIN000014.jpg\n",
      "Enhanced image saved: Glaucoma_Balanced_Dataset/Preprocessed_images_input_to_bound\\enhanced_TRAIN000015.jpg\n",
      "Enhanced image saved: Glaucoma_Balanced_Dataset/Preprocessed_images_input_to_bound\\enhanced_TRAIN000016.jpg\n",
      "Enhanced image saved: Glaucoma_Balanced_Dataset/Preprocessed_images_input_to_bound\\enhanced_TRAIN000017.jpg\n",
      "Enhanced image saved: Glaucoma_Balanced_Dataset/Preprocessed_images_input_to_bound\\enhanced_TRAIN000018.jpg\n",
      "Enhanced image saved: Glaucoma_Balanced_Dataset/Preprocessed_images_input_to_bound\\enhanced_TRAIN000019.jpg\n",
      "Enhanced image saved: Glaucoma_Balanced_Dataset/Preprocessed_images_input_to_bound\\enhanced_TRAIN000020.jpg\n",
      "Enhanced image saved: Glaucoma_Balanced_Dataset/Preprocessed_images_input_to_bound\\enhanced_TRAIN000021.jpg\n",
      "Enhanced image saved: Glaucoma_Balanced_Dataset/Preprocessed_images_input_to_bound\\enhanced_TRAIN000022.jpg\n",
      "Enhanced image saved: Glaucoma_Balanced_Dataset/Preprocessed_images_input_to_bound\\enhanced_TRAIN000023.jpg\n",
      "Enhanced image saved: Glaucoma_Balanced_Dataset/Preprocessed_images_input_to_bound\\enhanced_TRAIN000024.jpg\n",
      "Enhanced image saved: Glaucoma_Balanced_Dataset/Preprocessed_images_input_to_bound\\enhanced_TRAIN000025.jpg\n",
      "Enhanced image saved: Glaucoma_Balanced_Dataset/Preprocessed_images_input_to_bound\\enhanced_TRAIN000026.jpg\n",
      "Enhanced image saved: Glaucoma_Balanced_Dataset/Preprocessed_images_input_to_bound\\enhanced_TRAIN000027.jpg\n",
      "Enhanced image saved: Glaucoma_Balanced_Dataset/Preprocessed_images_input_to_bound\\enhanced_TRAIN000028.jpg\n",
      "Enhanced image saved: Glaucoma_Balanced_Dataset/Preprocessed_images_input_to_bound\\enhanced_TRAIN000029.jpg\n"
     ]
    }
   ],
   "source": [
    "# Function to resize the image while maintaining the aspect ratio\n",
    "def resize_and_crop(image, target_width, target_height):\n",
    "    # Get original image dimensions\n",
    "    original_height, original_width, _ = image.shape\n",
    "    original_aspect_ratio = original_width / original_height\n",
    "\n",
    "    # Calculate target aspect ratio\n",
    "    target_aspect_ratio = target_width / target_height\n",
    "\n",
    "    # Determine resizing dimensions to fit the target aspect ratio\n",
    "    if original_aspect_ratio > target_aspect_ratio:\n",
    "        # Original image is wider, crop width\n",
    "        new_width = int(original_height * target_aspect_ratio)\n",
    "        cropped_image = image[:, (original_width - new_width) // 2 : (original_width + new_width) // 2, :]\n",
    "    else:\n",
    "        # Original image is taller, crop height\n",
    "        new_height = int(original_width / target_aspect_ratio)\n",
    "        cropped_image = image[(original_height - new_height) // 2 : (original_height + new_height) // 2, :, :]\n",
    "\n",
    "    # Resize the cropped image to the target size\n",
    "    resized_image = cv2.resize(cropped_image, (target_width, target_height))\n",
    "\n",
    "    return resized_image\n",
    "\n",
    "# Function to enhance image contrast and normalize non-black pixels\n",
    "def enhance_and_normalize(image):\n",
    "    # Convert image to LAB color space\n",
    "    lab = cv2.cvtColor(image, cv2.COLOR_BGR2LAB)\n",
    "    l, a, b = cv2.split(lab)\n",
    "\n",
    "    # Threshold the L channel to create a mask of non-black pixels\n",
    "    _, mask = cv2.threshold(l, 10, 255, cv2.THRESH_BINARY)\n",
    "\n",
    "    # Apply CLAHE (Contrast Limited Adaptive Histogram Equalization) to the L channel\n",
    "    clahe = cv2.createCLAHE(clipLimit=2.0, tileGridSize=(8, 8))\n",
    "    l_eq = clahe.apply(l)\n",
    "\n",
    "    # Merge the enhanced L channel back with the A and B channels using the mask\n",
    "    enhanced_l = cv2.bitwise_and(l_eq, l_eq, mask=mask)\n",
    "    lab_eq = cv2.merge((enhanced_l, a, b))\n",
    "\n",
    "    # Convert LAB image back to RGB color space\n",
    "    enhanced_image = cv2.cvtColor(lab_eq, cv2.COLOR_LAB2BGR)\n",
    "\n",
    "    # Normalize the intensity values of the enhanced image\n",
    "    enhanced_image = cv2.normalize(enhanced_image, None, alpha=0, beta=255, norm_type=cv2.NORM_MINMAX)\n",
    "\n",
    "    return enhanced_image\n",
    "\n",
    "# Iterate over first 30 rows in the CSV file\n",
    "for index, row in itertools.islice(data.iterrows(), 30):\n",
    "    image_filename = row['Eye ID'] + \".jpg\"  # The column containing the image filenames\n",
    "    image_path = os.path.join(folder_path, image_filename)\n",
    "\n",
    "    # Read the image\n",
    "    image = cv2.imread(image_path)\n",
    "\n",
    "    if image is not None:\n",
    "        \n",
    "        # Resize and crop the image to fit the target aspect ratio\n",
    "        resized_image = resize_and_crop(image, target_width, target_height)\n",
    "\n",
    "        # Enhance and normalize the resized image\n",
    "        enhanced_image = enhance_and_normalize(resized_image)\n",
    "\n",
    "        # Define the output path for the enhanced image\n",
    "        output_filename = f\"enhanced_{image_filename}\"\n",
    "        output_image_path = os.path.join(output_folder_path, output_filename)\n",
    "\n",
    "        # Write the enhanced image to the output folder\n",
    "        cv2.imwrite(output_image_path, enhanced_image)\n",
    "\n",
    "        print(f\"Enhanced image saved: {output_image_path}\")\n"
   ]
  },
  {
   "cell_type": "code",
   "execution_count": null,
   "id": "381006d5",
   "metadata": {},
   "outputs": [],
   "source": []
  }
 ],
 "metadata": {
  "kernelspec": {
   "display_name": "Python 3 (ipykernel)",
   "language": "python",
   "name": "python3"
  },
  "language_info": {
   "codemirror_mode": {
    "name": "ipython",
    "version": 3
   },
   "file_extension": ".py",
   "mimetype": "text/x-python",
   "name": "python",
   "nbconvert_exporter": "python",
   "pygments_lexer": "ipython3",
   "version": "3.11.5"
  }
 },
 "nbformat": 4,
 "nbformat_minor": 5
}
