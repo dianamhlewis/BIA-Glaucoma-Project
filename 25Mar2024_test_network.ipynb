{
 "cells": [
  {
   "cell_type": "code",
   "execution_count": 2,
   "id": "243d1149",
   "metadata": {},
   "outputs": [],
   "source": [
    "import tensorflow as tf\n",
    "from tensorflow.keras import layers, models\n",
    "\n",
    "import pandas as pd\n",
    "import cv2"
   ]
  },
  {
   "cell_type": "code",
   "execution_count": null,
   "id": "12850f4f",
   "metadata": {},
   "outputs": [],
   "source": [
    "# Read the CSV file containing the image filenames and classifications\n",
    "csv_file = \"JustRAIGS_Train_labels.csv\"\n",
    "data = pd.read_csv(csv_file)\n",
    "\n",
    "# Define lists to store the image data and corresponding classifications\n",
    "images = []\n",
    "classifications = []\n",
    "\n",
    "# Iterate over each row in the CSV file\n",
    "for index, row in data.iterrows():\n",
    "    # Read the image file\n",
    "    image_path = row['Image_Path']  # Assuming 'Image_Path' is the column containing the image file paths\n",
    "    image = cv2.imread(image_path)  # Use cv2.imread for reading images\n",
    "    \n",
    "    # Preprocess the image as necessary (e.g., resizing, normalization)\n",
    "    # Add the preprocessed image to the images list\n",
    "    images.append(image)\n",
    "    \n",
    "    # Get the classification label\n",
    "    classification = row['Classification']  # Assuming 'Classification' is the column containing the classification\n",
    "    classifications.append(classification)\n",
    "\n",
    "# Convert the lists to numpy arrays for further processing\n",
    "images = np.array(images)\n",
    "classifications = np.array(classifications)\n",
    "\n",
    "# Now you can use the images and classifications for training your model\n"
   ]
  },
  {
   "cell_type": "code",
   "execution_count": null,
   "id": "ba6a963e",
   "metadata": {},
   "outputs": [],
   "source": [
    "# Step 1: Prepare the Data (Assuming images and labels are loaded and preprocessed)\n",
    "\n",
    "# Step 2: Split the Data into train, validation, and test sets\n",
    "\n",
    "# Step 3: Build the Neural Network Model\n",
    "model = models.Sequential([\n",
    "    layers.Conv2D(32, (3, 3), activation='relu', input_shape=(image_height, image_width, 3)),\n",
    "    layers.MaxPooling2D((2, 2)),\n",
    "    layers.Conv2D(64, (3, 3), activation='relu'),\n",
    "    layers.MaxPooling2D((2, 2)),\n",
    "    layers.Conv2D(64, (3, 3), activation='relu'),\n",
    "    layers.Flatten(),\n",
    "    layers.Dense(64, activation='relu'),\n",
    "    layers.Dense(1, activation='sigmoid')\n",
    "])\n",
    "\n",
    "# Step 4: Compile the Model\n",
    "model.compile(optimizer='adam',\n",
    "              loss='binary_crossentropy',\n",
    "              metrics=['accuracy'])\n",
    "\n",
    "# Step 5: Train the Model\n",
    "history = model.fit(train_images, train_labels, epochs=10, \n",
    "                    validation_data=(val_images, val_labels))\n",
    "\n",
    "# Step 6: Evaluate the Model\n",
    "test_loss, test_acc = model.evaluate(test_images, test_labels)\n",
    "print('Test accuracy:', test_acc)\n"
   ]
  }
 ],
 "metadata": {
  "kernelspec": {
   "display_name": "Python 3 (ipykernel)",
   "language": "python",
   "name": "python3"
  },
  "language_info": {
   "codemirror_mode": {
    "name": "ipython",
    "version": 3
   },
   "file_extension": ".py",
   "mimetype": "text/x-python",
   "name": "python",
   "nbconvert_exporter": "python",
   "pygments_lexer": "ipython3",
   "version": "3.11.5"
  }
 },
 "nbformat": 4,
 "nbformat_minor": 5
}
