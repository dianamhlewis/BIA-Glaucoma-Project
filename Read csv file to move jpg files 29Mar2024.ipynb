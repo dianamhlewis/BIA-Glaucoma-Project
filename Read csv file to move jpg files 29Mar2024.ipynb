{
 "cells": [
  {
   "cell_type": "code",
   "execution_count": 1,
   "id": "65d9b6af",
   "metadata": {},
   "outputs": [],
   "source": [
    "## Code written by Matthew Miller with the assistance of chatGPT 2024"
   ]
  },
  {
   "cell_type": "markdown",
   "id": "e9a7d27a",
   "metadata": {},
   "source": [
    "## (Both parts) This code is completely untested and does not have the correct paths, filenames, etc"
   ]
  },
  {
   "cell_type": "code",
   "execution_count": 1,
   "id": "5854692e",
   "metadata": {},
   "outputs": [],
   "source": [
    "import os\n",
    "import pandas as pd\n",
    "import shutil"
   ]
  },
  {
   "cell_type": "markdown",
   "id": "de5cb769",
   "metadata": {},
   "source": [
    "## This is to read the csv file and delete the empty cells since I couldn't find a way to do this easily within excel"
   ]
  },
  {
   "cell_type": "code",
   "execution_count": 10,
   "id": "b8dca9e8",
   "metadata": {},
   "outputs": [
    {
     "name": "stdout",
     "output_type": "stream",
     "text": [
      "Glaucoma Dataset\\JustRAIGS_Train_label_input_deletion.csv\n"
     ]
    }
   ],
   "source": [
    "##Uncomment both lines of one of the columns and run it\n",
    "# then do the other line separately after copying and pasting the output of the output csv file\n",
    "\n",
    "# Read the CSV file into a DataFrame\n",
    "folder_path = \"Glaucoma Dataset\"\n",
    "csv_file = \"JustRAIGS_Train_label_input_deletion.csv\"\n",
    "csv_path = os.path.join(folder_path,csv_file)\n",
    "print(csv_path)\n",
    "df = pd.read_csv(csv_path)\n",
    "##Other column name: 'RG all filenames'\n",
    "\n",
    "# Replace blank cells in a specific column (e.g., 'Column_Name') with NaN\n",
    "#df['NRG all file names'].replace('', pd.NA, inplace=True)\n",
    "df['RG all filenames'].replace('', pd.NA, inplace=True)\n",
    "\n",
    "# Drop rows with NaN values in the specified column\n",
    "#df.dropna(subset=['NRG all file names'], inplace=True)\n",
    "df.dropna(subset=['RG all filenames'], inplace=True)\n",
    "\n",
    "# Save the DataFrame back to the CSV file\n",
    "output_csv_path = os.path.join(folder_path, \"JustRAIGS_Train_label_output_deletion.csv\")\n",
    "df.to_csv(output_csv_path, index=False)\n"
   ]
  },
  {
   "cell_type": "markdown",
   "id": "a11ed083",
   "metadata": {},
   "source": [
    "## Read csv file to move (copy and paste) jpg files from the original folder to another folder\n",
    "This assumes that the original images are all in a single folder to start, so the 6 image folders will have to be combined first"
   ]
  },
  {
   "cell_type": "code",
   "execution_count": null,
   "id": "a3b77a54",
   "metadata": {},
   "outputs": [],
   "source": [
    "# Paths to source and destination folders\n",
    "source_folder = 'source_folder_path'\n",
    "destination_folder = 'destination_folder_path'\n",
    "\n",
    "# Path to CSV file\n",
    "csv_file = 'file_names.csv'\n",
    "\n",
    "# Read CSV file into a DataFrame\n",
    "data = pd.read_csv(csv_file)\n",
    "\n",
    "# Iterate through each row in the DataFrame\n",
    "for index, row in data.iterrows():\n",
    "    # Extract file name from the DataFrame\n",
    "    file_name = row['File Name Column']\n",
    "    \n",
    "    # Check if the file exists in the source folder\n",
    "    source_path = os.path.join(source_folder, file_name)\n",
    "    if os.path.exists(source_path):\n",
    "        # Copy the file to the destination folder\n",
    "        destination_path = os.path.join(destination_folder, file_name)\n",
    "        shutil.copy(source_path, destination_path)\n",
    "        print(f\"Copied {file_name} to {destination_folder}\")\n",
    "    else:\n",
    "        print(f\"{file_name} not found in {source_folder}\")\n"
   ]
  }
 ],
 "metadata": {
  "kernelspec": {
   "display_name": "Python 3 (ipykernel)",
   "language": "python",
   "name": "python3"
  },
  "language_info": {
   "codemirror_mode": {
    "name": "ipython",
    "version": 3
   },
   "file_extension": ".py",
   "mimetype": "text/x-python",
   "name": "python",
   "nbconvert_exporter": "python",
   "pygments_lexer": "ipython3",
   "version": "3.11.5"
  }
 },
 "nbformat": 4,
 "nbformat_minor": 5
}
