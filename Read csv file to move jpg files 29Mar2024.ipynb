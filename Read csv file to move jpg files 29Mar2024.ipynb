{
 "cells": [
  {
   "cell_type": "code",
   "execution_count": 1,
   "id": "16ed46d2",
   "metadata": {},
   "outputs": [],
   "source": [
    "## Code written by Matthew Miller with the assistance of chatGPT 2024"
   ]
  },
  {
   "cell_type": "markdown",
   "id": "044bcad8",
   "metadata": {},
   "source": [
    "## (Both parts) This code is completely untested and does not have the correct paths, filenames, etc"
   ]
  },
  {
   "cell_type": "code",
   "execution_count": 3,
   "id": "e2c1952f",
   "metadata": {},
   "outputs": [],
   "source": [
    "import os\n",
    "import pandas as pd\n",
    "import shutil"
   ]
  },
  {
   "cell_type": "markdown",
   "id": "3ec98359",
   "metadata": {},
   "source": [
    "## This is to read the csv file and delete the empty cells since I couldn't find a way to do this easily within excel"
   ]
  },
  {
   "cell_type": "code",
   "execution_count": null,
   "id": "e5f07af6",
   "metadata": {},
   "outputs": [],
   "source": [
    "# Read the CSV file into a DataFrame\n",
    "df = pd.read_csv('your_csv_file.csv')\n",
    "\n",
    "# Replace blank cells in a specific column (e.g., 'Column_Name') with NaN\n",
    "df['Column_Name'].replace('', pd.NA, inplace=True)\n",
    "\n",
    "# Drop rows with NaN values in the specified column\n",
    "df.dropna(subset=['Column_Name'], inplace=True)\n",
    "\n",
    "# Save the DataFrame back to the CSV file\n",
    "df.to_csv('modified_csv_file.csv', index=False)\n"
   ]
  },
  {
   "cell_type": "markdown",
   "id": "5db1fde0",
   "metadata": {},
   "source": [
    "## Read csv file to move (copy and paste) jpg files from the original folder to another folder\n",
    "This assumes that the original images are all in a single folder to start, so the 6 image folders will have to be combined first"
   ]
  },
  {
   "cell_type": "code",
   "execution_count": null,
   "id": "bc836be2",
   "metadata": {},
   "outputs": [],
   "source": [
    "# Paths to source and destination folders\n",
    "source_folder = 'source_folder_path'\n",
    "destination_folder = 'destination_folder_path'\n",
    "\n",
    "# Path to CSV file\n",
    "csv_file = 'file_names.csv'\n",
    "\n",
    "# Read CSV file into a DataFrame\n",
    "data = pd.read_csv(csv_file)\n",
    "\n",
    "# Iterate through each row in the DataFrame\n",
    "for index, row in data.iterrows():\n",
    "    # Extract file name from the DataFrame\n",
    "    file_name = row['File Name Column']\n",
    "    \n",
    "    # Check if the file exists in the source folder\n",
    "    source_path = os.path.join(source_folder, file_name)\n",
    "    if os.path.exists(source_path):\n",
    "        # Copy the file to the destination folder\n",
    "        destination_path = os.path.join(destination_folder, file_name)\n",
    "        shutil.copy(source_path, destination_path)\n",
    "        print(f\"Copied {file_name} to {destination_folder}\")\n",
    "    else:\n",
    "        print(f\"{file_name} not found in {source_folder}\")\n"
   ]
  }
 ],
 "metadata": {
  "kernelspec": {
   "display_name": "Python 3 (ipykernel)",
   "language": "python",
   "name": "python3"
  },
  "language_info": {
   "codemirror_mode": {
    "name": "ipython",
    "version": 3
   },
   "file_extension": ".py",
   "mimetype": "text/x-python",
   "name": "python",
   "nbconvert_exporter": "python",
   "pygments_lexer": "ipython3",
   "version": "3.11.5"
  }
 },
 "nbformat": 4,
 "nbformat_minor": 5
}
