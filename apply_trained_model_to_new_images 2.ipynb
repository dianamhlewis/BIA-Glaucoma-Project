{
 "cells": [
  {
   "cell_type": "code",
   "execution_count": null,
   "id": "00e107ee",
   "metadata": {},
   "outputs": [],
   "source": [
    "#Matt test code for applying a trained model to new images"
   ]
  },
  {
   "cell_type": "markdown",
   "id": "19e6d96c",
   "metadata": {},
   "source": [
    "## For exporting a model from previous code and saving it somewhere"
   ]
  },
  {
   "cell_type": "code",
   "execution_count": null,
   "id": "ce376552",
   "metadata": {},
   "outputs": [],
   "source": [
    "# Define a file path to save the model\n",
    "model.save('/trained_models/model.h5')\n",
    "\n"
   ]
  },
  {
   "cell_type": "code",
   "execution_count": null,
   "id": "9c3b7e07",
   "metadata": {},
   "outputs": [],
   "source": [
    "## For importing the model from the directory and validating it on new images"
   ]
  },
  {
   "cell_type": "markdown",
   "id": "c064994a",
   "metadata": {},
   "source": [
    "## images must be converted to a numpy array first\n",
    "\n",
    "Do the same preprocessing on the new images first too"
   ]
  },
  {
   "cell_type": "code",
   "execution_count": null,
   "id": "b2bed936",
   "metadata": {},
   "outputs": [],
   "source": [
    "# Load the HDF5 model\n",
    "loaded_model = tf.keras.models.load_model('/trained_models/model.h5')\n",
    "\n",
    "# Make predictions on new images\n",
    "# Assuming new_images is a NumPy array of shape (num_images, height, width, channels)\n",
    "predictions = loaded_model.predict(new_images)"
   ]
  }
 ],
 "metadata": {
  "kernelspec": {
   "display_name": "Python 3 (ipykernel)",
   "language": "python",
   "name": "python3"
  },
  "language_info": {
   "codemirror_mode": {
    "name": "ipython",
    "version": 3
   },
   "file_extension": ".py",
   "mimetype": "text/x-python",
   "name": "python",
   "nbconvert_exporter": "python",
   "pygments_lexer": "ipython3",
   "version": "3.11.5"
  }
 },
 "nbformat": 4,
 "nbformat_minor": 5
}
