{
 "cells": [
  {
   "cell_type": "code",
   "execution_count": null,
   "id": "67777766",
   "metadata": {},
   "outputs": [],
   "source": []
  },
  {
   "cell_type": "code",
   "execution_count": null,
   "id": "84522b1a",
   "metadata": {},
   "outputs": [],
   "source": [
    "diagnosis = []\n",
    "\n",
    "for eye in cdr_list:\n",
    "    if eye < 0.6\n",
    "        classifier = 0\n",
    "        \n",
    "    else\n",
    "        classifier = 1\n",
    "    \n",
    "    diagnosis.append[classifier]"
   ]
  }
 ],
 "metadata": {
  "kernelspec": {
   "display_name": "Python 3 (ipykernel)",
   "language": "python",
   "name": "python3"
  },
  "language_info": {
   "codemirror_mode": {
    "name": "ipython",
    "version": 3
   },
   "file_extension": ".py",
   "mimetype": "text/x-python",
   "name": "python",
   "nbconvert_exporter": "python",
   "pygments_lexer": "ipython3",
   "version": "3.11.5"
  }
 },
 "nbformat": 4,
 "nbformat_minor": 5
}
